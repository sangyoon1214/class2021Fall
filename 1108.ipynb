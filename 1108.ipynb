{
  "nbformat": 4,
  "nbformat_minor": 0,
  "metadata": {
    "colab": {
      "name": "1108.ipynb",
      "provenance": [],
      "authorship_tag": "ABX9TyMhhxUgBRAr0+4QIWalQWik",
      "include_colab_link": true
    },
    "kernelspec": {
      "name": "python3",
      "display_name": "Python 3"
    },
    "language_info": {
      "name": "python"
    }
  },
  "cells": [
    {
      "cell_type": "markdown",
      "metadata": {
        "id": "view-in-github",
        "colab_type": "text"
      },
      "source": [
        "<a href=\"https://colab.research.google.com/github/sangyoon1214/class2021Fall/blob/main/1108.ipynb\" target=\"_parent\"><img src=\"https://colab.research.google.com/assets/colab-badge.svg\" alt=\"Open In Colab\"/></a>"
      ]
    },
    {
      "cell_type": "markdown",
      "metadata": {
        "id": "OEli1gdS8SId"
      },
      "source": [
        "변수 (variables), 제어문 (syntax), 함수"
      ]
    },
    {
      "cell_type": "code",
      "metadata": {
        "colab": {
          "base_uri": "https://localhost:8080/"
        },
        "id": "84DIHgFy90vF",
        "outputId": "41e6e841-3a1e-4195-d6e2-1ec849bf9ce2"
      },
      "source": [
        "a = 1\n",
        "c = 1.1\n",
        "b = 'hello'\n",
        "d = [1, 'abc', 2.1]\n",
        "e = {\"apple\": \"red fruit\", \"banana\": \"yellow fruit\"}\n",
        "a123 = 1\n",
        "\n",
        "# print(a)\n",
        "# print(b)\n",
        "\n",
        "# print(type(a))\n",
        "# print(type(c))\n",
        "# print(type(b))\n",
        "# print(type(d))\n",
        "\n",
        "print(b[0:2])\n",
        "print(d)\n",
        "print(d[1])\n",
        "print(d[1][1])\n",
        "print(e[\"apple\"])"
      ],
      "execution_count": 24,
      "outputs": [
        {
          "output_type": "stream",
          "name": "stdout",
          "text": [
            "he\n",
            "[1, 'abc', 2.1]\n",
            "abc\n",
            "b\n",
            "red fruit\n"
          ]
        }
      ]
    }
  ]
}